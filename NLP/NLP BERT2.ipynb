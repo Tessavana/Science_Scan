{
 "cells": [
  {
   "cell_type": "code",
   "execution_count": 1,
   "id": "da1f64a4",
   "metadata": {
    "scrolled": true
   },
   "outputs": [
    {
     "name": "stdout",
     "output_type": "stream",
     "text": [
      "WARNING:tensorflow:From C:\\Users\\tessa\\anaconda3\\Lib\\site-packages\\keras\\src\\losses.py:2976: The name tf.losses.sparse_softmax_cross_entropy is deprecated. Please use tf.compat.v1.losses.sparse_softmax_cross_entropy instead.\n",
      "\n"
     ]
    }
   ],
   "source": [
    "import tensorflow as tf\n",
    "import sys\n",
    "import torch\n",
    "from transformers import BertTokenizer, BertForSequenceClassification\n",
    "from torch.utils.data import TensorDataset, DataLoader, RandomSampler, SequentialSampler\n",
    "from sklearn.model_selection import train_test_split\n",
    "from keras.preprocessing.sequence import pad_sequences\n",
    "from transformers import AdamW, get_linear_schedule_with_warmup\n",
    "import numpy as np\n",
    "import time\n",
    "import datetime\n",
    "import random\n",
    "from sklearn.metrics import accuracy_score, precision_score, recall_score, f1_score, confusion_matrix\n",
    "import seaborn as sns\n",
    "import matplotlib.pyplot as plt\n",
    "import pandas as pd\n",
    "import os"
   ]
  },
  {
   "cell_type": "code",
   "execution_count": 2,
   "id": "c86299af",
   "metadata": {},
   "outputs": [
    {
     "data": {
      "text/html": [
       "<div>\n",
       "<style scoped>\n",
       "    .dataframe tbody tr th:only-of-type {\n",
       "        vertical-align: middle;\n",
       "    }\n",
       "\n",
       "    .dataframe tbody tr th {\n",
       "        vertical-align: top;\n",
       "    }\n",
       "\n",
       "    .dataframe thead th {\n",
       "        text-align: right;\n",
       "    }\n",
       "</style>\n",
       "<table border=\"1\" class=\"dataframe\">\n",
       "  <thead>\n",
       "    <tr style=\"text-align: right;\">\n",
       "      <th></th>\n",
       "      <th>Sentences</th>\n",
       "      <th>Label</th>\n",
       "    </tr>\n",
       "  </thead>\n",
       "  <tbody>\n",
       "    <tr>\n",
       "      <th>0</th>\n",
       "      <td>A t-test confirmed that no significant differe...</td>\n",
       "      <td>Correct</td>\n",
       "    </tr>\n",
       "    <tr>\n",
       "      <th>1</th>\n",
       "      <td>No significant difference in HBP scores betwee...</td>\n",
       "      <td>Correct</td>\n",
       "    </tr>\n",
       "    <tr>\n",
       "      <th>2</th>\n",
       "      <td>No significant difference was found in any oth...</td>\n",
       "      <td>Correct</td>\n",
       "    </tr>\n",
       "    <tr>\n",
       "      <th>3</th>\n",
       "      <td>it was therefore assumed that this minimal var...</td>\n",
       "      <td>Correct</td>\n",
       "    </tr>\n",
       "    <tr>\n",
       "      <th>4</th>\n",
       "      <td>no significant differences were observed in th...</td>\n",
       "      <td>Correct</td>\n",
       "    </tr>\n",
       "    <tr>\n",
       "      <th>...</th>\n",
       "      <td>...</td>\n",
       "      <td>...</td>\n",
       "    </tr>\n",
       "    <tr>\n",
       "      <th>295</th>\n",
       "      <td>as compared with CHO, 12 while there was no di...</td>\n",
       "      <td>Incorrect</td>\n",
       "    </tr>\n",
       "    <tr>\n",
       "      <th>296</th>\n",
       "      <td>As shown in Table 1, there were no differences...</td>\n",
       "      <td>Incorrect</td>\n",
       "    </tr>\n",
       "    <tr>\n",
       "      <th>297</th>\n",
       "      <td>Also, there was no effect of time (p = 0.552) ...</td>\n",
       "      <td>Incorrect</td>\n",
       "    </tr>\n",
       "    <tr>\n",
       "      <th>298</th>\n",
       "      <td>NEFA concentrations dropped from the baseline ...</td>\n",
       "      <td>Incorrect</td>\n",
       "    </tr>\n",
       "    <tr>\n",
       "      <th>299</th>\n",
       "      <td>Insulin concentrations (Figure 3b) did not dif...</td>\n",
       "      <td>Incorrect</td>\n",
       "    </tr>\n",
       "  </tbody>\n",
       "</table>\n",
       "<p>300 rows × 2 columns</p>\n",
       "</div>"
      ],
      "text/plain": [
       "                                             Sentences      Label\n",
       "0    A t-test confirmed that no significant differe...    Correct\n",
       "1    No significant difference in HBP scores betwee...    Correct\n",
       "2    No significant difference was found in any oth...    Correct\n",
       "3    it was therefore assumed that this minimal var...    Correct\n",
       "4    no significant differences were observed in th...    Correct\n",
       "..                                                 ...        ...\n",
       "295  as compared with CHO, 12 while there was no di...  Incorrect\n",
       "296  As shown in Table 1, there were no differences...  Incorrect\n",
       "297  Also, there was no effect of time (p = 0.552) ...  Incorrect\n",
       "298  NEFA concentrations dropped from the baseline ...  Incorrect\n",
       "299  Insulin concentrations (Figure 3b) did not dif...  Incorrect\n",
       "\n",
       "[300 rows x 2 columns]"
      ]
     },
     "execution_count": 2,
     "metadata": {},
     "output_type": "execute_result"
    }
   ],
   "source": [
    "import pandas as pd\n",
    "import numpy as np\n",
    "\n",
    "# Define the path to your Excel file within the \"Data\" folder\n",
    "file_path = \"./15-12 Final Training data set.xlsx\"\n",
    "\n",
    "\n",
    "# Read the Excel file into a DataFrame\n",
    "df = pd.read_excel(file_path)\n",
    "df"
   ]
  },
  {
   "cell_type": "code",
   "execution_count": 3,
   "id": "3975de9c",
   "metadata": {},
   "outputs": [
    {
     "data": {
      "text/html": [
       "<div>\n",
       "<style scoped>\n",
       "    .dataframe tbody tr th:only-of-type {\n",
       "        vertical-align: middle;\n",
       "    }\n",
       "\n",
       "    .dataframe tbody tr th {\n",
       "        vertical-align: top;\n",
       "    }\n",
       "\n",
       "    .dataframe thead th {\n",
       "        text-align: right;\n",
       "    }\n",
       "</style>\n",
       "<table border=\"1\" class=\"dataframe\">\n",
       "  <thead>\n",
       "    <tr style=\"text-align: right;\">\n",
       "      <th></th>\n",
       "      <th>Sentences</th>\n",
       "      <th>Label</th>\n",
       "    </tr>\n",
       "  </thead>\n",
       "  <tbody>\n",
       "    <tr>\n",
       "      <th>0</th>\n",
       "      <td>A t-test confirmed that no significant differe...</td>\n",
       "      <td>1</td>\n",
       "    </tr>\n",
       "    <tr>\n",
       "      <th>1</th>\n",
       "      <td>No significant difference in HBP scores betwee...</td>\n",
       "      <td>1</td>\n",
       "    </tr>\n",
       "    <tr>\n",
       "      <th>2</th>\n",
       "      <td>No significant difference was found in any oth...</td>\n",
       "      <td>1</td>\n",
       "    </tr>\n",
       "    <tr>\n",
       "      <th>3</th>\n",
       "      <td>it was therefore assumed that this minimal var...</td>\n",
       "      <td>1</td>\n",
       "    </tr>\n",
       "    <tr>\n",
       "      <th>4</th>\n",
       "      <td>no significant differences were observed in th...</td>\n",
       "      <td>1</td>\n",
       "    </tr>\n",
       "    <tr>\n",
       "      <th>...</th>\n",
       "      <td>...</td>\n",
       "      <td>...</td>\n",
       "    </tr>\n",
       "    <tr>\n",
       "      <th>295</th>\n",
       "      <td>as compared with CHO, 12 while there was no di...</td>\n",
       "      <td>0</td>\n",
       "    </tr>\n",
       "    <tr>\n",
       "      <th>296</th>\n",
       "      <td>As shown in Table 1, there were no differences...</td>\n",
       "      <td>0</td>\n",
       "    </tr>\n",
       "    <tr>\n",
       "      <th>297</th>\n",
       "      <td>Also, there was no effect of time (p = 0.552) ...</td>\n",
       "      <td>0</td>\n",
       "    </tr>\n",
       "    <tr>\n",
       "      <th>298</th>\n",
       "      <td>NEFA concentrations dropped from the baseline ...</td>\n",
       "      <td>0</td>\n",
       "    </tr>\n",
       "    <tr>\n",
       "      <th>299</th>\n",
       "      <td>Insulin concentrations (Figure 3b) did not dif...</td>\n",
       "      <td>0</td>\n",
       "    </tr>\n",
       "  </tbody>\n",
       "</table>\n",
       "<p>300 rows × 2 columns</p>\n",
       "</div>"
      ],
      "text/plain": [
       "                                             Sentences  Label\n",
       "0    A t-test confirmed that no significant differe...      1\n",
       "1    No significant difference in HBP scores betwee...      1\n",
       "2    No significant difference was found in any oth...      1\n",
       "3    it was therefore assumed that this minimal var...      1\n",
       "4    no significant differences were observed in th...      1\n",
       "..                                                 ...    ...\n",
       "295  as compared with CHO, 12 while there was no di...      0\n",
       "296  As shown in Table 1, there were no differences...      0\n",
       "297  Also, there was no effect of time (p = 0.552) ...      0\n",
       "298  NEFA concentrations dropped from the baseline ...      0\n",
       "299  Insulin concentrations (Figure 3b) did not dif...      0\n",
       "\n",
       "[300 rows x 2 columns]"
      ]
     },
     "execution_count": 3,
     "metadata": {},
     "output_type": "execute_result"
    }
   ],
   "source": [
    "label_mapping = {'Incorrect': 0, 'Correct': 1}\n",
    "df['Label'] = df['Label'].replace(label_mapping)\n",
    "df"
   ]
  },
  {
   "cell_type": "code",
   "execution_count": 4,
   "id": "7579db9d",
   "metadata": {},
   "outputs": [
    {
     "name": "stdout",
     "output_type": "stream",
     "text": [
      "Positive samples: 150 of 300 (50.00%)\n"
     ]
    }
   ],
   "source": [
    "print('Positive samples: %d of %d (%.2f%%)' % (df.Label.sum(), len(df.Label), (df.Label.sum() / len(df.Label) * 100.0)))"
   ]
  },
  {
   "cell_type": "code",
   "execution_count": 77,
   "id": "e19f8fe0",
   "metadata": {},
   "outputs": [],
   "source": [
    "# Get the lists of sentences and their labels.\n",
    "sentences = df.Sentences.values\n",
    "labels = df.Label.values"
   ]
  },
  {
   "cell_type": "code",
   "execution_count": 6,
   "id": "9aba9139",
   "metadata": {},
   "outputs": [
    {
     "name": "stdout",
     "output_type": "stream",
     "text": [
      "int64\n"
     ]
    }
   ],
   "source": [
    "print(labels.dtype)"
   ]
  },
  {
   "cell_type": "code",
   "execution_count": 7,
   "id": "46bdadce",
   "metadata": {},
   "outputs": [],
   "source": [
    "from transformers import BertTokenizer\n",
    "\n",
    "tokenizer = BertTokenizer.from_pretrained('bert-base-uncased', do_lower_case=True)\n",
    "model = BertTokenizer.from_pretrained('bert-base-uncased')"
   ]
  },
  {
   "cell_type": "code",
   "execution_count": 8,
   "id": "5f46ec55",
   "metadata": {},
   "outputs": [
    {
     "name": "stdout",
     "output_type": "stream",
     "text": [
      " Original:  A t-test confirmed that no significant difference existed between the two groups ( t(30) = 0.74, P=0 .\n",
      "Tokenized:  ['a', 't', '-', 'test', 'confirmed', 'that', 'no', 'significant', 'difference', 'existed', 'between', 'the', 'two', 'groups', '(', 't', '(', '30', ')', '=', '0', '.', '74', ',', 'p', '=', '0', '.']\n",
      "Token IDs:  [1037, 1056, 1011, 3231, 4484, 2008, 2053, 3278, 4489, 5839, 2090, 1996, 2048, 2967, 1006, 1056, 1006, 2382, 1007, 1027, 1014, 1012, 6356, 1010, 1052, 1027, 1014, 1012]\n"
     ]
    }
   ],
   "source": [
    "# Print the original sentence.\n",
    "print(' Original: ', sentences[0])\n",
    "\n",
    "# Print the sentence split into tokens.\n",
    "print('Tokenized: ', tokenizer.tokenize(sentences[0]))\n",
    "\n",
    "# Print the sentence mapped to token ids.\n",
    "print('Token IDs: ', tokenizer.convert_tokens_to_ids(tokenizer.tokenize(sentences[0])))"
   ]
  },
  {
   "cell_type": "code",
   "execution_count": 9,
   "id": "dee4d40a",
   "metadata": {},
   "outputs": [
    {
     "name": "stdout",
     "output_type": "stream",
     "text": [
      "Original:  A t-test confirmed that no significant difference existed between the two groups ( t(30) = 0.74, P=0 .\n",
      "Token IDs: [101, 1037, 1056, 1011, 3231, 4484, 2008, 2053, 3278, 4489, 5839, 2090, 1996, 2048, 2967, 1006, 1056, 1006, 2382, 1007, 1027, 1014, 1012, 6356, 1010, 1052, 1027, 1014, 1012, 102]\n"
     ]
    }
   ],
   "source": [
    "# Tokenize all of the sentences and map the tokens to thier word IDs.\n",
    "input_ids = []\n",
    "\n",
    "# For every sentence...\n",
    "for sent in sentences:\n",
    "    # `encode` will:\n",
    "    #   (1) Tokenize the sentence.\n",
    "    #   (2) Prepend the `[CLS]` token to the start.\n",
    "    #   (3) Append the `[SEP]` token to the end.\n",
    "    #   (4) Map tokens to their IDs.\n",
    "    encoded_sent = tokenizer.encode(\n",
    "                        sent\n",
    "                   )\n",
    "    \n",
    "    # Add the encoded sentence to the list.\n",
    "    input_ids.append(encoded_sent)\n",
    "\n",
    "# Print sentence 0, now as a list of IDs.\n",
    "print('Original: ', sentences[0])\n",
    "print('Token IDs:', input_ids[0])"
   ]
  },
  {
   "cell_type": "code",
   "execution_count": 10,
   "id": "0e5e0b59",
   "metadata": {},
   "outputs": [
    {
     "name": "stdout",
     "output_type": "stream",
     "text": [
      "Max sentence length:  319\n"
     ]
    }
   ],
   "source": [
    "print('Max sentence length: ', max([len(sen) for sen in input_ids]))"
   ]
  },
  {
   "cell_type": "code",
   "execution_count": 11,
   "id": "98ac0e79",
   "metadata": {},
   "outputs": [
    {
     "name": "stdout",
     "output_type": "stream",
     "text": [
      "Average sentence length: 50.24\n"
     ]
    }
   ],
   "source": [
    "average_length = sum(len(sen) for sen in input_ids) / len(input_ids)\n",
    "print('Average sentence length:',average_length)"
   ]
  },
  {
   "cell_type": "code",
   "execution_count": 12,
   "id": "4b93f84d",
   "metadata": {},
   "outputs": [
    {
     "data": {
      "image/png": "[encoded data removed]",
      "text/plain": [
       "<Figure size 640x480 with 1 Axes>"
      ]
     },
     "metadata": {},
     "output_type": "display_data"
    }
   ],
   "source": [
    "import matplotlib.pyplot as plt\n",
    "\n",
    "# Calculate the lengths of tokenized sentences\n",
    "sentence_lengths = [len(sen) for sen in input_ids]\n",
    "\n",
    "# Create a histogram\n",
    "plt.hist(sentence_lengths, bins=30, color='lightblue', edgecolor='black', alpha=0.7)\n",
    "plt.xlabel('Tokenized Sentence Length')\n",
    "plt.ylabel('Frequency')\n",
    "plt.title('Histogram of Tokenized Sentence Lengths')\n",
    "plt.show()"
   ]
  },
  {
   "cell_type": "code",
   "execution_count": 13,
   "id": "43d82d4a",
   "metadata": {},
   "outputs": [
    {
     "name": "stdout",
     "output_type": "stream",
     "text": [
      "Number of sentences below 150 tokens: 295\n"
     ]
    }
   ],
   "source": [
    "cutoff_length = 150\n",
    "\n",
    "# Count the number of sentences below the cutoff\n",
    "sentences_below_cutoff = sum(1 for length in sentence_lengths if length < cutoff_length)\n",
    "\n",
    "print(f'Number of sentences below {cutoff_length} tokens: {sentences_below_cutoff}')"
   ]
  },
  {
   "cell_type": "code",
   "execution_count": 14,
   "id": "90905b57",
   "metadata": {},
   "outputs": [
    {
     "name": "stdout",
     "output_type": "stream",
     "text": [
      "Sentence 1 (Length: 792):\n",
      "Selfreport data and preliminary analyses  Oneway ANOVAs revealed no significant differences between  groups in their ages (M 18–22 years, SD 1.23 –2.85), F (2, 46)  0.12, p F.05; weight (M 63.2 –68.4 kg, SD 9.60 –14.65), F (2, 46)  0.39, p F.05; height (M 168.30 cm–171.07 cm, SD 9.07 –9.84), F (2,  46) 0.68, p F.05; training hours/day (M 2.66 –2.90 h, SD  0.57 –2.00), F (2, 46) 0.65, p F.05; training days/week (M  3.10 –3.42, SD 0.71 –1.40), F (2, 46) 0.38, p F.05; year of experience  (M 5.07 –5.86, SD 2.46 –4.05), F (2, 46) 0.30, p F.05; or MIQR  scores (M 15.9 –18.34, SD 2.08 –3.25), F (2, 46) 2.65, p F.05;  indicating no betweengroup differences in terms of age, weight, height,  training hours/day, training days/week, year of experience, and imagery ability.\n",
      "\n",
      "Sentence 2 (Length: 396):\n",
      "There was a small albeit significant increase in IL6,  8 and 10 concentrations  pre to postmatch in both PLB (IL6: 0.83±0.92 Vs 2.91±1.40, IL8: 2.16±1.22 Vs 3.91±1.61  and IL10: 2.51±2.14 Vs 0.61±0.50 pg.mL1) and MC groups (IL6: 0.53±0.53 Vs 2.24±1.73,  IL8: 1.85±0.96 Vs 3.46±1.12 and IL10: 0.48±0.50 Vs 2.54±2.10 pg.mL1), although there  were no significant differences between groups (P<0.05).\n",
      "\n",
      "Sentence 3 (Length: 472):\n",
      "The difference between means  were tested at a significance level of P<0.05.      13  Results   Match characteristics  There were no significant differences in absolute distance covered (6334±1924 vs 6596±177  m, P=0.75), relative distance covered (72.6±4.8 vs 79.3±5.5 m.min1, P=0.009), total collisions  (28±11 vs 29±13, P=0.89), high speed running (4457±1315 vs 4286±1532 m, P=0.78)  and  playing duration (67:10±19:7 vs 67:10±19:3 min, P=0.99, between the two matches.\n",
      "\n",
      "Sentence 4 (Length: 403):\n",
      "Gender and EAMC History Results We did not observe an interaction between EAMC history and gender for [Na+]sw,F(1, 313) = 0.02, p= .88, Na+ swcontent, F(1, 307) = 2.03, p= .16, [K+]sw,F(1, 314) = 0.75, p=. 3 9 ,K+ swcontent, F(1, 308) = 2.73, p=. 0 9 , [ C l−]sw,F(1, 265) = 0.60, p=. 4 4 , C l− swcontent, F(1, 264) = 1.59, p= .21, SR BSA,F(1, 346) = 0.44, p=. 5 1 , o r S R , F(1, 346) = 0.83, p= .36.\n",
      "\n",
      "Sentence 5 (Length: 345):\n",
      "We did not observe a main effect for “EAMC history ”for [Na+]sw,F(1, 181) = 0.36, p= .55, Na+ swcontent, F(1, 180) = 0.30, p= .59, [K+]sw,F(1, 182) = 0.33, p= .57, K+ swcontent, F(1, 180) = 0.46, p= .49, [Cl−]sw,F(1, 182) = 0.01, p= .94, Cl− swcontent, F(1, 181) = 0.36, p= .55, SR BSA, F(1, 194) = 0.01, p= .96, or SR, F(1, 194) = 0.01, p= .92.\n",
      "\n"
     ]
    }
   ],
   "source": [
    "cutoff_length = 150\n",
    "\n",
    "# Find the sentences above the cutoff\n",
    "long_sentences = [sentences[i] for i, length in enumerate(sentence_lengths) if length >= cutoff_length]\n",
    "\n",
    "# Print the long sentences with a line space between each\n",
    "for idx, long_sentence in enumerate(long_sentences):\n",
    "    print(f'Sentence {idx + 1} (Length: {len(long_sentence)}):\\n{long_sentence}\\n')"
   ]
  },
  {
   "cell_type": "code",
   "execution_count": 15,
   "id": "16b5a3bb",
   "metadata": {},
   "outputs": [],
   "source": [
    "# We will use some utility function from tensorflow(Tensorflow was my first crush)\n",
    "from keras.preprocessing.sequence import pad_sequences\n",
    "\n",
    "\n",
    "MAX_LEN = 150\n",
    "\n",
    "#Padding the input to the max length that is 150\n",
    "input_ids = pad_sequences(input_ids, maxlen=MAX_LEN, dtype=\"long\", \n",
    "                          value=0, truncating=\"post\", padding=\"post\")\n"
   ]
  },
  {
   "cell_type": "code",
   "execution_count": 16,
   "id": "d96c8d0e",
   "metadata": {},
   "outputs": [],
   "source": [
    "# Creating the attention masks\n",
    "attention_masks = []\n",
    "\n",
    "# For each sentence...\n",
    "for sent in input_ids:\n",
    "    \n",
    "    # Create the attention mask.\n",
    "    #   - If a token ID is 0, then it's padding, set the mask to 0.\n",
    "    #   - If a token ID is > 0, then it's a real token, set the mask to 1.\n",
    "    att_mask = [int(token_id > 0) for token_id in sent]\n",
    "    \n",
    "    # Store the attention mask for this sentence.\n",
    "    attention_masks.append(att_mask)"
   ]
  },
  {
   "cell_type": "code",
   "execution_count": 17,
   "id": "c33e057d",
   "metadata": {},
   "outputs": [],
   "source": [
    "# # We will call the train_test_split() function from sklearn\n",
    "# from sklearn.model_selection import train_test_split\n",
    "\n",
    "# train_inputs, validation_inputs, train_labels, validation_labels = train_test_split(input_ids, labels, \n",
    "#                                                             random_state=2018, test_size=0.1)\n",
    "# # Performing same steps on the attention masks\n",
    "# train_masks, validation_masks, _, _ = train_test_split(attention_masks, labels,\n",
    "#                                              random_state=2018, test_size=0.1)\n",
    "\n",
    "from sklearn.model_selection import train_test_split\n",
    "\n",
    "# Split into training and temporary (remaining) data\n",
    "train_inputs, temp_inputs, train_labels, temp_labels = train_test_split(input_ids, labels, \n",
    "                                                                        random_state=2018, test_size=0.2)\n",
    "\n",
    "# Further split the remaining data into validation and test sets\n",
    "validation_inputs, test_inputs, validation_labels, test_labels = train_test_split(temp_inputs, temp_labels,\n",
    "                                                                                  random_state=2018, test_size=0.5)\n",
    "\n",
    "# Repeat the same steps for attention masks\n",
    "train_masks, temp_masks, _, _ = train_test_split(attention_masks, labels,\n",
    "                                                random_state=2018, test_size=0.2)\n",
    "validation_masks, test_masks, _, _ = train_test_split(temp_masks, temp_labels,\n",
    "                                                      random_state=2018, test_size=0.5)"
   ]
  },
  {
   "cell_type": "code",
   "execution_count": 18,
   "id": "d092db85",
   "metadata": {},
   "outputs": [
    {
     "name": "stdout",
     "output_type": "stream",
     "text": [
      "Train label counts: [128 112]\n",
      "Validation label counts: [10 20]\n",
      "Test label counts: [12 18]\n"
     ]
    }
   ],
   "source": [
    "import numpy as np\n",
    "\n",
    "# Count the labels in each set\n",
    "train_label_counts = np.bincount(train_labels)\n",
    "validation_label_counts = np.bincount(validation_labels)\n",
    "test_label_counts = np.bincount(test_labels)\n",
    "\n",
    "# Print the counts\n",
    "print(\"Train label counts:\", train_label_counts)\n",
    "print(\"Validation label counts:\", validation_label_counts)\n",
    "print(\"Test label counts:\", test_label_counts)\n"
   ]
  },
  {
   "cell_type": "code",
   "execution_count": 19,
   "id": "e31ec351",
   "metadata": {},
   "outputs": [],
   "source": [
    "#Converting the input data to the tensor , which can be feeded to the model\n",
    "train_inputs = torch.tensor(train_inputs)\n",
    "validation_inputs = torch.tensor(validation_inputs)\n",
    "\n",
    "train_labels = torch.tensor(train_labels, dtype=torch.long)\n",
    "validation_labels = torch.tensor(validation_labels, dtype=torch.long)\n",
    "\n",
    "train_masks = torch.tensor(train_masks)\n",
    "validation_masks = torch.tensor(validation_masks)"
   ]
  },
  {
   "cell_type": "code",
   "execution_count": 20,
   "id": "06621278",
   "metadata": {},
   "outputs": [],
   "source": [
    "from torch.utils.data import TensorDataset, DataLoader, RandomSampler, SequentialSampler\n",
    "\n",
    "#Creating the DataLoader which will help us to load data into the CPU\n",
    "batch_size = 32\n",
    "\n",
    "# Create the DataLoader for our training set.\n",
    "train_data = TensorDataset(train_inputs, train_masks, train_labels)\n",
    "train_sampler = RandomSampler(train_data)\n",
    "train_dataloader = DataLoader(train_data, sampler=train_sampler, batch_size=batch_size, num_workers=4)\n",
    "\n",
    "\n",
    "# Create the DataLoader for our validation set.\n",
    "validation_data = TensorDataset(validation_inputs, validation_masks, validation_labels)\n",
    "validation_sampler = SequentialSampler(validation_data)\n",
    "validation_dataloader = DataLoader(validation_data, sampler=validation_sampler, batch_size=batch_size)\n"
   ]
  },
  {
   "cell_type": "code",
   "execution_count": 21,
   "id": "39abfdb9",
   "metadata": {},
   "outputs": [
    {
     "name": "stderr",
     "output_type": "stream",
     "text": [
      "Some weights of BertForSequenceClassification were not initialized from the model checkpoint at bert-base-uncased and are newly initialized: ['classifier.weight', 'classifier.bias']\n",
      "You should probably TRAIN this model on a down-stream task to be able to use it for predictions and inference.\n"
     ]
    },
    {
     "data": {
      "text/plain": [
       "BertForSequenceClassification(\n",
       "  (bert): BertModel(\n",
       "    (embeddings): BertEmbeddings(\n",
       "      (word_embeddings): Embedding(30522, 768, padding_idx=0)\n",
       "      (position_embeddings): Embedding(512, 768)\n",
       "      (token_type_embeddings): Embedding(2, 768)\n",
       "      (LayerNorm): LayerNorm((768,), eps=1e-12, elementwise_affine=True)\n",
       "      (dropout): Dropout(p=0.1, inplace=False)\n",
       "    )\n",
       "    (encoder): BertEncoder(\n",
       "      (layer): ModuleList(\n",
       "        (0-11): 12 x BertLayer(\n",
       "          (attention): BertAttention(\n",
       "            (self): BertSelfAttention(\n",
       "              (query): Linear(in_features=768, out_features=768, bias=True)\n",
       "              (key): Linear(in_features=768, out_features=768, bias=True)\n",
       "              (value): Linear(in_features=768, out_features=768, bias=True)\n",
       "              (dropout): Dropout(p=0.1, inplace=False)\n",
       "            )\n",
       "            (output): BertSelfOutput(\n",
       "              (dense): Linear(in_features=768, out_features=768, bias=True)\n",
       "              (LayerNorm): LayerNorm((768,), eps=1e-12, elementwise_affine=True)\n",
       "              (dropout): Dropout(p=0.1, inplace=False)\n",
       "            )\n",
       "          )\n",
       "          (intermediate): BertIntermediate(\n",
       "            (dense): Linear(in_features=768, out_features=3072, bias=True)\n",
       "            (intermediate_act_fn): GELUActivation()\n",
       "          )\n",
       "          (output): BertOutput(\n",
       "            (dense): Linear(in_features=3072, out_features=768, bias=True)\n",
       "            (LayerNorm): LayerNorm((768,), eps=1e-12, elementwise_affine=True)\n",
       "            (dropout): Dropout(p=0.1, inplace=False)\n",
       "          )\n",
       "        )\n",
       "      )\n",
       "    )\n",
       "    (pooler): BertPooler(\n",
       "      (dense): Linear(in_features=768, out_features=768, bias=True)\n",
       "      (activation): Tanh()\n",
       "    )\n",
       "  )\n",
       "  (dropout): Dropout(p=0.1, inplace=False)\n",
       "  (classifier): Linear(in_features=768, out_features=2, bias=True)\n",
       ")"
      ]
     },
     "execution_count": 21,
     "metadata": {},
     "output_type": "execute_result"
    }
   ],
   "source": [
    "from transformers import BertForSequenceClassification, AdamW, BertConfig\n",
    "\n",
    "# Load BertForSequenceClassification, the pretrained BERT model with a single linear classification layer on top. \n",
    "model = BertForSequenceClassification.from_pretrained(\n",
    "    \"bert-base-uncased\", \n",
    "    num_labels = 2,   \n",
    "    output_attentions = True, \n",
    "    output_hidden_states = False, )\n",
    "\n",
    "model"
   ]
  },
  {
   "cell_type": "code",
   "execution_count": 22,
   "id": "ae7e5f99",
   "metadata": {},
   "outputs": [
    {
     "name": "stderr",
     "output_type": "stream",
     "text": [
      "C:\\Users\\tessa\\anaconda3\\Lib\\site-packages\\transformers\\optimization.py:411: FutureWarning: This implementation of AdamW is deprecated and will be removed in a future version. Use the PyTorch implementation torch.optim.AdamW instead, or set `no_deprecation_warning=True` to disable this warning\n",
      "  warnings.warn(\n"
     ]
    }
   ],
   "source": [
    "# AdamW is an optimizer which is a Adam Optimzier with weight-decay-fix\n",
    "from transformers.optimization import AdamW\n",
    "\n",
    "optimizer = AdamW(model.parameters(),\n",
    "                  lr = 3e-5,  \n",
    "                  eps = 1e-8,\n",
    "                )"
   ]
  },
  {
   "cell_type": "code",
   "execution_count": 23,
   "id": "d1f042ee",
   "metadata": {},
   "outputs": [
    {
     "data": {
      "text/plain": [
       "<torch.optim.lr_scheduler.LambdaLR at 0x2391264ab90>"
      ]
     },
     "execution_count": 23,
     "metadata": {},
     "output_type": "execute_result"
    }
   ],
   "source": [
    "from transformers import get_linear_schedule_with_warmup\n",
    "\n",
    "# Number of training epochs (authors recommend between 2 and 4)\n",
    "epochs = 5\n",
    "\n",
    "# Total number of training steps is number of batches * number of epochs.\n",
    "total_steps = len(train_dataloader) * epochs\n",
    "\n",
    "# Set the number of warm-up steps to 10% of the total steps\n",
    "warmup_steps = int(0.1 * total_steps)\n",
    "\n",
    "# Create the learning rate scheduler.\n",
    "scheduler = get_linear_schedule_with_warmup(optimizer, \n",
    "                                            num_warmup_steps = warmup_steps, \n",
    "                                            num_training_steps = total_steps)\n",
    "scheduler"
   ]
  },
  {
   "cell_type": "code",
   "execution_count": null,
   "id": "7c3c92df",
   "metadata": {},
   "outputs": [],
   "source": [
    "\n"
   ]
  },
  {
   "cell_type": "code",
   "execution_count": 24,
   "id": "0e88482c",
   "metadata": {},
   "outputs": [],
   "source": [
    "import numpy as np\n",
    "\n",
    "# Function to calculate the accuracy of our predictions vs labels\n",
    "def flat_accuracy(preds, labels):\n",
    "    pred_flat = np.argmax(preds, axis=1).flatten()\n",
    "    labels_flat = labels.flatten()\n",
    "    return np.sum(pred_flat == labels_flat) / len(labels_flat)"
   ]
  },
  {
   "cell_type": "code",
   "execution_count": 25,
   "id": "778005c3",
   "metadata": {},
   "outputs": [],
   "source": [
    "#Creating the helper function to have a watch on elapsed time\n",
    "\n",
    "import time\n",
    "import datetime\n",
    "\n",
    "def format_time(elapsed):\n",
    "    '''\n",
    "    Takes a time in seconds and returns a string hh:mm:ss\n",
    "    '''\n",
    "    # Round to the nearest second.\n",
    "    elapsed_rounded = int(round((elapsed)))\n",
    "    \n",
    "    # Format as hh:mm:ss\n",
    "    return str(datetime.timedelta(seconds=elapsed_rounded))"
   ]
  },
  {
   "cell_type": "code",
   "execution_count": 26,
   "id": "42324ff7",
   "metadata": {},
   "outputs": [
    {
     "name": "stdout",
     "output_type": "stream",
     "text": [
      "\n",
      "======== Epoch 1 / 5 ========\n",
      "Training...\n",
      "\n",
      "  Average training loss: 0.70\n",
      "  Training epoch took: 0:02:13\n",
      "\n",
      "Running Validation...\n",
      "  Accuracy: 0.43\n",
      "  Validation took: 0:00:06\n",
      "\n",
      "======== Epoch 2 / 5 ========\n",
      "Training...\n",
      "\n",
      "  Average training loss: 0.61\n",
      "  Training epoch took: 0:02:16\n",
      "\n",
      "Running Validation...\n",
      "  Accuracy: 0.73\n",
      "  Validation took: 0:00:06\n",
      "\n",
      "======== Epoch 3 / 5 ========\n",
      "Training...\n",
      "\n",
      "  Average training loss: 0.46\n",
      "  Training epoch took: 0:02:16\n",
      "\n",
      "Running Validation...\n",
      "  Accuracy: 0.83\n",
      "  Validation took: 0:00:06\n",
      "\n",
      "======== Epoch 4 / 5 ========\n",
      "Training...\n",
      "\n",
      "  Average training loss: 0.33\n",
      "  Training epoch took: 0:02:15\n",
      "\n",
      "Running Validation...\n",
      "  Accuracy: 0.87\n",
      "  Validation took: 0:00:06\n",
      "\n",
      "======== Epoch 5 / 5 ========\n",
      "Training...\n",
      "\n",
      "  Average training loss: 0.25\n",
      "  Training epoch took: 0:02:13\n",
      "\n",
      "Running Validation...\n",
      "  Accuracy: 0.87\n",
      "  Validation took: 0:00:06\n",
      "\n",
      "Training complete!\n"
     ]
    }
   ],
   "source": [
    "import random\n",
    "import numpy as np\n",
    "import torch\n",
    "from transformers import BertForSequenceClassification, AdamW, BertTokenizer, get_linear_schedule_with_warmup\n",
    "from torch.utils.data import DataLoader, RandomSampler, SequentialSampler\n",
    "\n",
    "# Set the seed value all over the place to make this reproducible.\n",
    "seed_val = 42\n",
    "\n",
    "random.seed(seed_val)\n",
    "np.random.seed(seed_val)\n",
    "torch.manual_seed(seed_val)\n",
    "torch.cuda.manual_seed_all(seed_val)\n",
    "\n",
    "# Store the average loss after each epoch so we can plot them.\n",
    "loss_values = []\n",
    "\n",
    "# For each epoch...\n",
    "for epoch_i in range(0, epochs):\n",
    "    \n",
    "    # ========================================\n",
    "    #               Training\n",
    "    # ========================================\n",
    "    \n",
    "    # Perform one full pass over the training set.\n",
    "\n",
    "    print(\"\")\n",
    "    print('======== Epoch {:} / {:} ========'.format(epoch_i + 1, epochs))\n",
    "    print('Training...')\n",
    "\n",
    "    # Measure how long the training epoch takes.\n",
    "    t0 = time.time()\n",
    "\n",
    "    # Reset the total loss for this epoch.\n",
    "    total_loss = 0\n",
    "\n",
    "    # Put the model into training mode. Don't be mislead--the call to \n",
    "    # `train` just changes the *mode*, it doesn't *perform* the training.\n",
    "    # `dropout` and `batchnorm` layers behave differently during training\n",
    "    # vs. test (source: https://stackoverflow.com/questions/51433378/what-does-model-train-do-in-pytorch)\n",
    "    model.train()\n",
    "\n",
    "    # For each batch of training data...\n",
    "    for step, batch in enumerate(train_dataloader):\n",
    "\n",
    "        # Progress update every 40 batches.\n",
    "        if step % 40 == 0 and not step == 0:\n",
    "            # Calculate elapsed time in minutes.\n",
    "            elapsed = format_time(time.time() - t0)\n",
    "            \n",
    "            # Report progress.\n",
    "            print('  Batch {:>5,}  of  {:>5,}.    Elapsed: {:}.'.format(step, len(train_dataloader), elapsed))\n",
    "\n",
    "        # Unpack this training batch from our dataloader. \n",
    "        b_input_ids = batch[0]\n",
    "        b_input_mask = batch[1]\n",
    "        b_labels = batch[2]\n",
    "\n",
    "        # Always clear any previously calculated gradients before performing a\n",
    "        # backward pass. PyTorch doesn't do this automatically because \n",
    "        # accumulating the gradients is \"convenient while training RNNs\". \n",
    "        # (source: https://stackoverflow.com/questions/48001598/why-do-we-need-to-call-zero-grad-in-pytorch)\n",
    "        model.zero_grad()        \n",
    "\n",
    "        # Perform a forward pass (evaluate the model on this training batch).\n",
    "        outputs = model(b_input_ids, \n",
    "                        token_type_ids=None, \n",
    "                        attention_mask=b_input_mask, \n",
    "                        labels=b_labels)\n",
    "        \n",
    "        # The call to `model` always returns a tuple, so we need to pull the \n",
    "        # loss value out of the tuple.\n",
    "        loss = outputs.loss\n",
    "\n",
    "        # Accumulate the training loss over all of the batches so that we can\n",
    "        # calculate the average loss at the end.\n",
    "        total_loss += loss.item()\n",
    "\n",
    "        # Perform a backward pass to calculate the gradients.\n",
    "        loss.backward()\n",
    "\n",
    "        # Clip the norm of the gradients to 1.0.\n",
    "        # This is to help prevent the \"exploding gradients\" problem.\n",
    "        torch.nn.utils.clip_grad_norm_(model.parameters(), 1.0)\n",
    "\n",
    "        # Update parameters and take a step using the computed gradient.\n",
    "        # The optimizer dictates the \"update rule\"--how the parameters are\n",
    "        # modified based on their gradients, the learning rate, etc.\n",
    "        optimizer.step()\n",
    "\n",
    "        # Update the learning rate.\n",
    "        scheduler.step()\n",
    "\n",
    "    # Calculate the average loss over the training data.\n",
    "    avg_train_loss = total_loss / len(train_dataloader)            \n",
    "    \n",
    "    # Store the loss value for plotting the learning curve.\n",
    "    loss_values.append(avg_train_loss)\n",
    "\n",
    "    print(\"\")\n",
    "    print(\"  Average training loss: {0:.2f}\".format(avg_train_loss))\n",
    "    print(\"  Training epoch took: {:}\".format(format_time(time.time() - t0)))\n",
    "        \n",
    "    # ========================================\n",
    "    #               Validation\n",
    "    # ========================================\n",
    "    # After the completion of each training epoch, measure our performance on\n",
    "    # our validation set.\n",
    "\n",
    "    print(\"\")\n",
    "    print(\"Running Validation...\")\n",
    "\n",
    "    t0 = time.time()\n",
    "\n",
    "    # Put the model in evaluation mode--the dropout layers behave differently\n",
    "    # during evaluation.\n",
    "    model.eval()\n",
    "\n",
    "    # Tracking variables \n",
    "    eval_loss, eval_accuracy = 0, 0\n",
    "    nb_eval_steps, nb_eval_examples = 0, 0\n",
    "\n",
    "    # Evaluate data for one epoch\n",
    "    for batch in validation_dataloader:\n",
    "        \n",
    "        # Add batch to GPU (if available)\n",
    "        b_input_ids = batch[0]\n",
    "        b_input_mask = batch[1]\n",
    "        b_labels = batch[2]\n",
    "        \n",
    "        # Telling the model not to compute or store gradients, saving memory and\n",
    "        # speeding up validation\n",
    "        with torch.no_grad():        \n",
    "\n",
    "            # Forward pass, calculate logit predictions.\n",
    "            outputs = model(b_input_ids, \n",
    "                            token_type_ids=None, \n",
    "                            attention_mask=b_input_mask)\n",
    "        \n",
    "        # Get the \"logits\" output by the model. The \"logits\" are the output\n",
    "        # values prior to applying an activation function like the softmax.\n",
    "        logits = outputs.logits\n",
    "\n",
    "        # Move\n",
    "\n",
    "\n",
    "        # Move logits and labels to CPU\n",
    "        logits = logits.detach().cpu().numpy()\n",
    "        label_ids = b_labels.to('cpu').numpy()\n",
    "        \n",
    "        # Calculate the accuracy for this batch of test sentences.\n",
    "        tmp_eval_accuracy = flat_accuracy(logits, label_ids)\n",
    "        \n",
    "        # Accumulate the total accuracy.\n",
    "        eval_accuracy += tmp_eval_accuracy\n",
    "\n",
    "        # Track the number of batches\n",
    "        nb_eval_steps += 1\n",
    "\n",
    "    # Report the final accuracy for this validation run.\n",
    "    print(\"  Accuracy: {0:.2f}\".format(eval_accuracy/nb_eval_steps))\n",
    "    print(\"  Validation took: {:}\".format(format_time(time.time() - t0)))\n",
    "\n",
    "print(\"\")\n",
    "print(\"Training complete!\")"
   ]
  },
  {
   "cell_type": "code",
   "execution_count": 27,
   "id": "2d1ee44c",
   "metadata": {},
   "outputs": [
    {
     "name": "stdout",
     "output_type": "stream",
     "text": [
      "[0.7013650983572006, 0.6121422350406647, 0.4569171257317066, 0.32741498574614525, 0.2469380870461464]\n"
     ]
    }
   ],
   "source": [
    "print(loss_values) #Having a view of stored loss values in the list"
   ]
  },
  {
   "cell_type": "code",
   "execution_count": 37,
   "id": "d5c37e74",
   "metadata": {},
   "outputs": [
    {
     "name": "stdout",
     "output_type": "stream",
     "text": [
      "Number of test sentences: 30\n",
      "\n"
     ]
    }
   ],
   "source": [
    "# Report the number of sentences.\n",
    "print('Number of test sentences: {:,}\\n'.format(test_inputs.shape[0]))\n",
    "\n",
    "# Convert to tensors.\n",
    "prediction_inputs = torch.tensor(test_inputs)\n",
    "prediction_masks = torch.tensor(test_masks)\n",
    "prediction_labels = torch.tensor(test_labels)\n",
    "\n",
    "# Set the batch size.  \n",
    "batch_size = 32  \n",
    "\n",
    "# Create the DataLoader.\n",
    "prediction_data = TensorDataset(prediction_inputs, prediction_masks, prediction_labels)\n",
    "prediction_sampler = SequentialSampler(prediction_data)\n",
    "prediction_dataloader = DataLoader(prediction_data, sampler=prediction_sampler, batch_size=batch_size)\n"
   ]
  },
  {
   "cell_type": "code",
   "execution_count": 54,
   "id": "a23f3439",
   "metadata": {},
   "outputs": [
    {
     "name": "stdout",
     "output_type": "stream",
     "text": [
      "Predicting labels for 30 test sentences...\n"
     ]
    }
   ],
   "source": [
    "# Report the number of sentences.\n",
    "print('Predicting labels for {:,} test sentences...'.format(len(test_inputs)))\n",
    "\n",
    "\n",
    "# Put model in evaluation mode\n",
    "model.eval()\n",
    "\n",
    "# Tracking variables \n",
    "predictions, true_labels = [], []\n",
    "\n",
    "# Create the DataLoader.\n",
    "test_data = TensorDataset(torch.tensor(test_inputs), torch.tensor(test_masks), torch.tensor(test_labels))\n",
    "test_sampler = SequentialSampler(test_data)\n",
    "test_dataloader = DataLoader(test_data, sampler=test_sampler, batch_size=batch_size)\n",
    "\n",
    "# Predict \n",
    "for batch in test_dataloader:\n",
    "    # Unpack the inputs from our dataloader\n",
    "    b_input_ids, b_input_mask, b_labels = batch\n",
    "\n",
    "    # Telling the model not to compute or store gradients, saving memory and \n",
    "    # speeding up prediction\n",
    "    with torch.no_grad():\n",
    "        # Forward pass, calculate logit predictions\n",
    "        outputs = model(b_input_ids, token_type_ids=None, attention_mask=b_input_mask)\n",
    "\n",
    "    logits = outputs.logits.detach().numpy()\n",
    "\n",
    "    # Move labels to CPU\n",
    "    label_ids = b_labels.numpy()\n",
    "\n",
    "    # Store predictions and true labels\n",
    "    predictions.append(logits)\n",
    "    true_labels.append(label_ids)\n"
   ]
  },
  {
   "cell_type": "code",
   "execution_count": 80,
   "id": "fda6e3d2",
   "metadata": {},
   "outputs": [
    {
     "name": "stdout",
     "output_type": "stream",
     "text": [
      "Accuracy: 0.9000\n",
      "Precision: 0.9032\n",
      "Recall: 0.9000\n",
      "F1 Score: 0.9006\n"
     ]
    },
    {
     "data": {
      "image/png": "[encoded data removed]",
      "text/plain": [
       "<Figure size 800x600 with 2 Axes>"
      ]
     },
     "metadata": {},
     "output_type": "display_data"
    }
   ],
   "source": [
    "# Flatten the nested lists of predictions and true labels\n",
    "flat_predictions = np.concatenate(predictions, axis=0)\n",
    "flat_true_labels = np.concatenate(true_labels, axis=0)\n",
    "\n",
    "# Convert logits to predicted labels\n",
    "predicted_labels = np.argmax(flat_predictions, axis=1)\n",
    "\n",
    "# Generate confusion matrix\n",
    "conf_matrix = confusion_matrix(flat_true_labels, predicted_labels)\n",
    "\n",
    "# Calculate metrics\n",
    "accuracy = accuracy_score(flat_true_labels, predicted_labels)\n",
    "precision = precision_score(flat_true_labels, predicted_labels, average='weighted', zero_division=1)  # Set zero_division to 1\n",
    "recall = recall_score(flat_true_labels, predicted_labels, average='weighted')\n",
    "f1 = f1_score(flat_true_labels, predicted_labels, average='weighted')\n",
    "\n",
    "# Print metrics\n",
    "print(f'Accuracy: {accuracy:.4f}')\n",
    "print(f'Precision: {precision:.4f}')\n",
    "print(f'Recall: {recall:.4f}')\n",
    "print(f'F1 Score: {f1:.4f}')\n",
    "\n",
    "# Plot the confusion matrix with seaborn\n",
    "plt.figure(figsize=(8, 6))\n",
    "sns.heatmap(conf_matrix, annot=True, fmt='d', cmap='Blues', xticklabels=['Incorrect', 'Correct'], yticklabels=['Incorrect', 'Correct'])\n",
    "plt.xlabel('Predicted')\n",
    "plt.ylabel('True')\n",
    "plt.title('Confusion Matrix BERT')\n",
    "plt.show()\n"
   ]
  },
  {
   "cell_type": "code",
   "execution_count": null,
   "id": "0678b1a2",
   "metadata": {},
   "outputs": [],
   "source": []
  },
  {
   "cell_type": "code",
   "execution_count": null,
   "id": "80600c97",
   "metadata": {},
   "outputs": [],
   "source": []
  },
  {
   "cell_type": "code",
   "execution_count": null,
   "id": "ba37c904",
   "metadata": {},
   "outputs": [],
   "source": []
  },
  {
   "cell_type": "code",
   "execution_count": 78,
   "id": "ff58717f",
   "metadata": {},
   "outputs": [
    {
     "data": {
      "text/html": [
       "<div>\n",
       "<style scoped>\n",
       "    .dataframe tbody tr th:only-of-type {\n",
       "        vertical-align: middle;\n",
       "    }\n",
       "\n",
       "    .dataframe tbody tr th {\n",
       "        vertical-align: top;\n",
       "    }\n",
       "\n",
       "    .dataframe thead th {\n",
       "        text-align: right;\n",
       "    }\n",
       "</style>\n",
       "<table border=\"1\" class=\"dataframe\">\n",
       "  <thead>\n",
       "    <tr style=\"text-align: right;\">\n",
       "      <th></th>\n",
       "      <th>True Label</th>\n",
       "      <th>Predicted Label</th>\n",
       "      <th>Sentence</th>\n",
       "    </tr>\n",
       "  </thead>\n",
       "  <tbody>\n",
       "    <tr>\n",
       "      <th>0</th>\n",
       "      <td>Incorrect</td>\n",
       "      <td>Correct</td>\n",
       "      <td>In comparison to a previous study examining the RHE, similar peak EMG values were seen in the ES because this was also above 100% of MVIC; in contrast, however, the HE also elicited $100% MVIC in the same study and with no significant difference present between the two (21).</td>\n",
       "    </tr>\n",
       "    <tr>\n",
       "      <th>1</th>\n",
       "      <td>Correct</td>\n",
       "      <td>Incorrect</td>\n",
       "      <td>Given the working-set MCVs in both conditions did not differ greatly, it is possible the current subjects were not strong enough to exhibit a PAP response during the down sets or a longer rest interval was needed after the working sets to dissipate fatigue before performing the down set.</td>\n",
       "    </tr>\n",
       "    <tr>\n",
       "      <th>2</th>\n",
       "      <td>Correct</td>\n",
       "      <td>Incorrect</td>\n",
       "      <td>This hypothesis, however, was not supported when investigating ingame performance.</td>\n",
       "    </tr>\n",
       "  </tbody>\n",
       "</table>\n",
       "</div>"
      ],
      "text/plain": [
       "  True Label Predicted Label  \\\n",
       "0  Incorrect         Correct   \n",
       "1    Correct       Incorrect   \n",
       "2    Correct       Incorrect   \n",
       "\n",
       "                                                                                                                                                                                                                                                                                           Sentence  \n",
       "0               In comparison to a previous study examining the RHE, similar peak EMG values were seen in the ES because this was also above 100% of MVIC; in contrast, however, the HE also elicited $100% MVIC in the same study and with no significant difference present between the two (21).  \n",
       "1  Given the working-set MCVs in both conditions did not differ greatly, it is possible the current subjects were not strong enough to exhibit a PAP response during the down sets or a longer rest interval was needed after the working sets to dissipate fatigue before performing the down set.  \n",
       "2                                                                                                                                                                                                                This hypothesis, however, was not supported when investigating ingame performance.  "
      ]
     },
     "execution_count": 78,
     "metadata": {},
     "output_type": "execute_result"
    }
   ],
   "source": [
    "# Ensure that the lengths match\n",
    "min_length = min(len(flat_true_labels), len(predicted_labels), len(sentences))\n",
    "flat_true_labels = flat_true_labels[:min_length]\n",
    "predicted_labels = predicted_labels[:min_length]\n",
    "sentences = sentences[:min_length]\n",
    "\n",
    "# Create a DataFrame for misclassified sentences\n",
    "misclassified_df1 = pd.DataFrame({\n",
    "    'True Label': flat_true_labels,\n",
    "    'Predicted Label': predicted_labels,\n",
    "    'Sentence': sentences\n",
    "})\n",
    "\n",
    "# Filter the DataFrame to include only misclassified sentences\n",
    "misclassified_df1 = misclassified_df1[misclassified_df1['True Label'] != misclassified_df1['Predicted Label']]\n",
    "\n",
    "# Set pandas options for better display\n",
    "pd.set_option('display.max_rows', None)\n",
    "pd.set_option('display.max_colwidth', None)\n",
    "\n",
    "# Assuming you have the misclassified DataFrame named misclassified_df\n",
    "\n",
    "# Change labels for better readability\n",
    "misclassified_df1['True Label'] = np.where(misclassified_df1['True Label'] == 1, 'Correct', 'Incorrect')\n",
    "misclassified_df1['Predicted Label'] = np.where(misclassified_df1['Predicted Label'] == 1, 'Correct', 'Incorrect')\n",
    "\n",
    "# Save the misclassified DataFrame to an Excel file\n",
    "misclassified_df1.to_excel(\"misclassified_sentences1.xlsx\", index=False)\n",
    "\n",
    "# Now, read the Excel file into a new DataFrame\n",
    "misclassified_df_from_excel = pd.read_excel(\"misclassified_sentences1.xlsx\")\n",
    "\n",
    "misclassified_df_from_excel\n"
   ]
  },
  {
   "cell_type": "code",
   "execution_count": 44,
   "id": "bbbf88fc",
   "metadata": {},
   "outputs": [],
   "source": [
    "import os\n",
    "# Specify the directory where you want to save the model\n",
    "output_dir = './trained_model1/'\n",
    "\n",
    "# Create the directory if it doesn't exist\n",
    "if not os.path.exists(output_dir):\n",
    "    os.makedirs(output_dir)\n",
    "\n",
    "# Save model to directory\n",
    "model.save_pretrained(output_dir)\n",
    "\n",
    "# Save tokenizer to directory\n",
    "tokenizer.save_pretrained(output_dir)\n",
    "\n",
    "# Save configuration to directory\n",
    "model.config.save_pretrained(output_dir)"
   ]
  },
  {
   "cell_type": "code",
   "execution_count": 45,
   "id": "bb156a2d",
   "metadata": {},
   "outputs": [],
   "source": [
    "from transformers import BertForSequenceClassification, BertTokenizer\n",
    "\n",
    "# Load the saved model and tokenizer\n",
    "model = BertForSequenceClassification.from_pretrained(output_dir)\n",
    "tokenizer = BertTokenizer.from_pretrained(output_dir)"
   ]
  },
  {
   "cell_type": "code",
   "execution_count": 46,
   "id": "57697546",
   "metadata": {},
   "outputs": [
    {
     "name": "stdout",
     "output_type": "stream",
     "text": [
      "Sentence: Given the working-set MCVs in both conditions did not differ greatly, it is possible the current subjects were not strong enough to exhibit a PAP response during the down sets or a longer rest interval was needed after the working sets to dissipate fatigue before performing the down set.\n",
      "Predicted Label: 1\n",
      "\n",
      "Sentence: The results for the plankhold followed a similar pattern but were not statistically significant.\n",
      "Predicted Label: 1\n",
      "\n",
      "Sentence: Rows that share the same subscript letter, do not differ significantly.\n",
      "Predicted Label: 0\n",
      "\n",
      "Sentence: Aerobic fitness groups did not differ significantly by  ethnicity, race, sex, estimated IQ, education, pastyear cannabis use,  pastyear alcohol use, recent nicotine exposure (cotinine level), or amount of sedentary behavior (see Table 1).\n",
      "Predicted Label: 0\n",
      "\n",
      "Sentence: Repeatedmeasures ANOVA results indicated a significant effect between each 5 s interval (p < 0.001), but no differences  were observed between trials ( p > 0.05).\n",
      "Predicted Label: 1\n",
      "\n",
      "Sentence: LT assessedby VO 2(Figure 2 (E)) did also not differ significantly between BC supplementation and placebo ( p>.\n",
      "Predicted Label: 0\n",
      "\n",
      "Sentence: Although we did note a trend toward increased D’ and time to exhaustion in a cohort of our subjects, but these were weak trends that did not reach statistical significance and the effect sizes were small to medium, but variable.\n",
      "Predicted Label: 0\n",
      "\n",
      "Sentence: In this respect, recent reviews have suggested that the use of compression garments after running  has little or no effect on muscle damage and inflammatory markers (Brown et al., 2017; Engel et  al., 2016).\n",
      "Predicted Label: 0\n",
      "\n",
      "Sentence: Similarly, there was a decrease in PLB (2.16±0.34  m.s1) and MC (2.17±0.33 m.s1) drop jump performance from 24h prematch to 48h postmatch  (PLB: 2.05±0.40 m.s1 and MC: 2.06±0.41 m.s1) although this was not statistically significant  (P=0.228 and P =0.893, respectively).\n",
      "Predicted Label: 1\n",
      "\n",
      "Sentence: Nonetheless, they were significantly higher in DELAY  (+ 3.6 ± 3.5 mU ∙ L1; p = 0.003) and CHO (+ 4.7 ± 3.0; mU ∙ L1 p < 0.001) as compared with PLA , whereas there was no difference between DELAY and CHO (p > 0.999) at 60min.\n",
      "Predicted Label: 1\n",
      "\n",
      "Sentence: 5.2 ± 0.6 mmol ∙ L1) as compared to PLA (4.2 ± 0.6  and 3.3 ± 0.6 mmol ∙  L1) at 60min and post TT time points (p < 0.05) with no difference between CHO and DELAY (p >  0.999) conditions.\n",
      "Predicted Label: 0\n",
      "\n",
      "Sentence: AUC for glucose was significantly higher in CHO as compared with PLA (p =  0.006), whereas there was no difference between CHO and DELAY (p = 0.189) or PLA and  DELAY (p = 0.228 ).\n",
      "Predicted Label: 0\n",
      "\n",
      "Sentence: AUC for lactate was significantly higher in CHO as compared with PLA (p = 0.029 ) and  DELAY (p = 0.019), whereas there was no difference between PLA and DELAY (p = 0.974).\n",
      "Predicted Label: 0\n",
      "\n",
      "Sentence: However, in their study, the preservation of muscular force could  not be attributed to changes in the central factor because voluntary activation (VA) d oes not differ  between the maltodextrin and placebo mouth rinse groups.\n",
      "Predicted Label: 0\n",
      "\n",
      "Sentence: There were no differences in T lim between conditions (BR = 22.8 ± 8.1 min;  Placebo = 20.7 ± 7.9 min) ( P = 0.184), despite increases in plasma\n",
      "Predicted Label: 0\n",
      "\n",
      "Sentence: Dietary NO 3 supplementation had no effect on exercise tolerance or thermoregulation in hot, dry  conditions, despite reductions in resting MAP and increases in plasma\n",
      "Predicted Label: 0\n",
      "\n",
      "Sentence: There were no differences ( t(10)= 1.4, P = 0.184) in T lim between the BR and PLA  conditions, despite seven out of the eleven participants extending their performance  after BR supplementation (BR = 22.8 ± 8 .1min; Placebo = 20.7 ± 7.9min).\n",
      "Predicted Label: 0\n",
      "\n",
      "Sentence: There were no differences between  PLA and BR for H prod (t(10) = 0.103, P = 0.920), H dry (t(10) = 1.913, P = 0.085), E req (t(10)  = 0.789, P = 0.448), heat storage ( t(10) = 0.941, P = 0.369), E max (t(10) = 1.919, P =  0.084) or W ( t(10) = 0.101, P = 0.337)\n",
      "Predicted Label: 1\n",
      "\n"
     ]
    }
   ],
   "source": [
    "from transformers import BertTokenizer, BertForSequenceClassification\n",
    "import torch\n",
    "\n",
    "# Load the saved model and tokenizer\n",
    "output_dir = './trained_model1/'\n",
    "model = BertForSequenceClassification.from_pretrained(output_dir)\n",
    "tokenizer = BertTokenizer.from_pretrained(output_dir)\n",
    "\n",
    "# Input sentences for classification\n",
    "sentencess = [\n",
    "  \"Given the working-set MCVs in both conditions did not differ greatly, it is possible the current subjects were not strong enough to exhibit a PAP response during the down sets or a longer rest interval was needed after the working sets to dissipate fatigue before performing the down set.\",\n",
    "  \"The results for the plankhold followed a similar pattern but were not statistically significant.\",\n",
    "  \"Rows that share the same subscript letter, do not differ significantly.\",\n",
    "  \"Aerobic fitness groups did not differ significantly by  ethnicity, race, sex, estimated IQ, education, pastyear cannabis use,  pastyear alcohol use, recent nicotine exposure (cotinine level), or amount of sedentary behavior (see Table 1).\",\n",
    "  \"Repeatedmeasures ANOVA results indicated a significant effect between each 5 s interval (p < 0.001), but no differences  were observed between trials ( p > 0.05).\",\n",
    "  \"LT assessedby VO 2(Figure 2 (E)) did also not differ significantly between BC supplementation and placebo ( p>.\",\n",
    "  \"Although we did note a trend toward increased D’ and time to exhaustion in a cohort of our subjects, but these were weak trends that did not reach statistical significance and the effect sizes were small to medium, but variable.\",\n",
    "  \"In this respect, recent reviews have suggested that the use of compression garments after running  has little or no effect on muscle damage and inflammatory markers (Brown et al., 2017; Engel et  al., 2016).\",\n",
    "  \"Similarly, there was a decrease in PLB (2.16±0.34  m.s1) and MC (2.17±0.33 m.s1) drop jump performance from 24h prematch to 48h postmatch  (PLB: 2.05±0.40 m.s1 and MC: 2.06±0.41 m.s1) although this was not statistically significant  (P=0.228 and P =0.893, respectively).\",\n",
    "  \"Nonetheless, they were significantly higher in DELAY  (+ 3.6 ± 3.5 mU ∙ L1; p = 0.003) and CHO (+ 4.7 ± 3.0; mU ∙ L1 p < 0.001) as compared with PLA , whereas there was no difference between DELAY and CHO (p > 0.999) at 60min.\",\n",
    "  \"5.2 ± 0.6 mmol ∙ L1) as compared to PLA (4.2 ± 0.6  and 3.3 ± 0.6 mmol ∙  L1) at 60min and post TT time points (p < 0.05) with no difference between CHO and DELAY (p >  0.999) conditions.\",\n",
    "  \"AUC for glucose was significantly higher in CHO as compared with PLA (p =  0.006), whereas there was no difference between CHO and DELAY (p = 0.189) or PLA and  DELAY (p = 0.228 ).\",\n",
    "  \"AUC for lactate was significantly higher in CHO as compared with PLA (p = 0.029 ) and  DELAY (p = 0.019), whereas there was no difference between PLA and DELAY (p = 0.974).\",\n",
    "  \"However, in their study, the preservation of muscular force could  not be attributed to changes in the central factor because voluntary activation (VA) d oes not differ  between the maltodextrin and placebo mouth rinse groups.\",\n",
    "  \"There were no differences in T lim between conditions (BR = 22.8 ± 8.1 min;  Placebo = 20.7 ± 7.9 min) ( P = 0.184), despite increases in plasma\",\n",
    "  \"Dietary NO 3 supplementation had no effect on exercise tolerance or thermoregulation in hot, dry  conditions, despite reductions in resting MAP and increases in plasma\",\n",
    "  \"There were no differences ( t(10)= 1.4, P = 0.184) in T lim between the BR and PLA  conditions, despite seven out of the eleven participants extending their performance  after BR supplementation (BR = 22.8 ± 8 .1min; Placebo = 20.7 ± 7.9min).\",\n",
    "  \"There were no differences between  PLA and BR for H prod (t(10) = 0.103, P = 0.920), H dry (t(10) = 1.913, P = 0.085), E req (t(10)  = 0.789, P = 0.448), heat storage ( t(10) = 0.941, P = 0.369), E max (t(10) = 1.919, P =  0.084) or W ( t(10) = 0.101, P = 0.337)\"\n",
    "]\n",
    "\n",
    "# Tokenize input sentences\n",
    "tokenized_input = tokenizer(sentences, padding=True, truncation=True, return_tensors=\"pt\")\n",
    "\n",
    "# Ensure the model is in evaluation mode\n",
    "model.eval()\n",
    "\n",
    "# Make predictions\n",
    "with torch.no_grad():\n",
    "    # Forward pass\n",
    "    outputs = model(**tokenized_input)\n",
    "\n",
    "# Get the predicted probabilities\n",
    "probs = torch.nn.functional.softmax(outputs.logits, dim=-1)\n",
    "\n",
    "# Get the predicted class (0 or 1 in binary classification)\n",
    "predicted_class = torch.argmax(probs, dim=1).tolist()\n",
    "\n",
    "# Display results\n",
    "for sentence, label in zip(sentences, predicted_class):\n",
    "    print(f\"Sentence: {sentence}\")\n",
    "    print(f\"Predicted Label: {label}\")\n",
    "    print()\n",
    "    \n",
    "    \n",
    "#1 is correct 0 is incorrect"
   ]
  },
  {
   "cell_type": "code",
   "execution_count": null,
   "id": "6d76d8f2",
   "metadata": {},
   "outputs": [],
   "source": []
  },
  {
   "cell_type": "code",
   "execution_count": null,
   "id": "5422dfc7",
   "metadata": {},
   "outputs": [],
   "source": []
  },
  {
   "cell_type": "code",
   "execution_count": null,
   "id": "7414b07b",
   "metadata": {},
   "outputs": [],
   "source": []
  }
 ],
 "metadata": {
  "kernelspec": {
   "display_name": "Python 3 (ipykernel)",
   "language": "python",
   "name": "python3"
  },
  "language_info": {
   "codemirror_mode": {
    "name": "ipython",
    "version": 3
   },
   "file_extension": ".py",
   "mimetype": "text/x-python",
   "name": "python",
   "nbconvert_exporter": "python",
   "pygments_lexer": "ipython3",
   "version": "3.11.5"
  }
 },
 "nbformat": 4,
 "nbformat_minor": 5
}
